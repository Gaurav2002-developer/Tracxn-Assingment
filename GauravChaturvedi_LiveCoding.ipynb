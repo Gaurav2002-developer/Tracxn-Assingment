{
 "cells": [
  {
   "cell_type": "markdown",
   "id": "8eb38840",
   "metadata": {},
   "source": [
    "# Entry-Level Automation Engineer Live Coding Assessment\n",
    "\n",
    "## Instructions:\n",
    "- This test has **2 tasks**, each designed to be completed in **~30 minutes**.\n",
    "- Use Python (you may import any standard library like `pandas`, `json`, etc.)\n",
    "- You can test your solution in this notebook.\n",
    "- Submit this notebook after completion.\n",
    "\n",
    "---\n"
   ]
  },
  {
   "cell_type": "markdown",
   "id": "893039f2",
   "metadata": {},
   "source": [
    "### ✅ Task 1: Python Dictionary Filter\n",
    "\n",
    "Write a Python function that filters a list of dictionaries and returns only those that have **all the required keys**.\n",
    "\n",
    "#### Function Signature:\n",
    "```python\n",
    "def filter_dicts(data: list[dict], required_keys: list[str]) -> list[dict]:\n",
    "    pass\n",
    "```\n",
    "\n",
    "#### Example Input:\n",
    "```python\n",
    "data = [\n",
    "    {\"name\": \"Alice\", \"age\": 25},\n",
    "    {\"name\": \"Bob\"},\n",
    "    {\"name\": \"Charlie\", \"age\": 30, \"city\": \"Mumbai\"}\n",
    "]\n",
    "\n",
    "required_keys = [\"name\", \"age\"]\n",
    "```\n",
    "\n",
    "#### Expected Output:\n",
    "```python\n",
    "[\n",
    "    {\"name\": \"Alice\", \"age\": 25},\n",
    "    {\"name\": \"Charlie\", \"age\": 30, \"city\": \"Mumbai\"}\n",
    "]\n",
    "```\n",
    "\n",
    "👉 Implement your code below:"
   ]
  },
  {
   "cell_type": "code",
   "execution_count": 34,
   "id": "a3c07a83",
   "metadata": {},
   "outputs": [
    {
     "name": "stdout",
     "output_type": "stream",
     "text": [
      "[{'name': 'Alice', 'age': 25}, {'name': 'Charlie', 'age': 30, 'city': 'Mumbai'}]\n"
     ]
    }
   ],
   "source": [
    "## Task 1 solution\n",
    "def filter_dicts(data: list[dict], required_keys: list[str]) -> list[dict]:\n",
    "    filter = []\n",
    "    for item in data:\n",
    "        if all(k in item for k in required_keys):\n",
    "            filter.append(item)\n",
    "    return filter\n",
    "\n",
    "required_keys = [\"name\", \"age\"]\n",
    "\n",
    "data = [\n",
    "    {\"name\": \"Alice\", \"age\": 25},\n",
    "    {\"name\": \"Bob\"},\n",
    "    {\"name\": \"Charlie\", \"age\": 30, \"city\": \"Mumbai\"}\n",
    "]\n",
    "\n",
    "output = filter_dicts(data, required_keys)\n",
    "print(output)"
   ]
  },
  {
   "cell_type": "markdown",
   "id": "f1f29bde",
   "metadata": {},
   "source": [
    "### ✅ Task 2: Pandas – Clean a CSV File\n",
    "\n",
    "You are given a CSV file named `students.csv` (attached separately).\n",
    "\n",
    "Your task is to write a script that:\n",
    "1. Reads the CSV using Pandas  \n",
    "2. Strips extra spaces in column names  \n",
    "3. Removes duplicate rows  \n",
    "4. Drops rows where any value is missing  \n",
    "5. Prints the cleaned DataFrame and row counts before and after cleaning  \n",
    "6. Saves the cleaned file as `clean_students.csv`\n",
    "\n",
    "👉 Implement your code below:"
   ]
  },
  {
   "cell_type": "code",
   "execution_count": 13,
   "id": "2c06d403-208e-46e4-a005-5531d8846f19",
   "metadata": {},
   "outputs": [],
   "source": [
    "import pandas as pd\n",
    "import warnings\n",
    "warnings.filterwarnings('ignore')"
   ]
  },
  {
   "cell_type": "code",
   "execution_count": 15,
   "id": "06465a26",
   "metadata": {},
   "outputs": [],
   "source": [
    "# Task 2 solution\n",
    "df = pd.read_csv('students.csv') #Used Pandas to read the csv file into datafrane"
   ]
  },
  {
   "cell_type": "code",
   "execution_count": 16,
   "id": "22353385-529a-483b-a9ad-272b93f5fb29",
   "metadata": {},
   "outputs": [
    {
     "data": {
      "text/html": [
       "<div>\n",
       "<style scoped>\n",
       "    .dataframe tbody tr th:only-of-type {\n",
       "        vertical-align: middle;\n",
       "    }\n",
       "\n",
       "    .dataframe tbody tr th {\n",
       "        vertical-align: top;\n",
       "    }\n",
       "\n",
       "    .dataframe thead th {\n",
       "        text-align: right;\n",
       "    }\n",
       "</style>\n",
       "<table border=\"1\" class=\"dataframe\">\n",
       "  <thead>\n",
       "    <tr style=\"text-align: right;\">\n",
       "      <th></th>\n",
       "      <th>Name</th>\n",
       "      <th>Age</th>\n",
       "      <th>City</th>\n",
       "    </tr>\n",
       "  </thead>\n",
       "  <tbody>\n",
       "    <tr>\n",
       "      <th>0</th>\n",
       "      <td>Julia</td>\n",
       "      <td>21</td>\n",
       "      <td>Hyderabad</td>\n",
       "    </tr>\n",
       "    <tr>\n",
       "      <th>1</th>\n",
       "      <td>Julia</td>\n",
       "      <td>21</td>\n",
       "      <td>Hyderabad</td>\n",
       "    </tr>\n",
       "    <tr>\n",
       "      <th>2</th>\n",
       "      <td>Grace</td>\n",
       "      <td>twenty</td>\n",
       "      <td>Kolkata</td>\n",
       "    </tr>\n",
       "    <tr>\n",
       "      <th>3</th>\n",
       "      <td>Charlie</td>\n",
       "      <td>22</td>\n",
       "      <td>Mumbai</td>\n",
       "    </tr>\n",
       "    <tr>\n",
       "      <th>4</th>\n",
       "      <td>Julia</td>\n",
       "      <td>21</td>\n",
       "      <td>Kolkata</td>\n",
       "    </tr>\n",
       "  </tbody>\n",
       "</table>\n",
       "</div>"
      ],
      "text/plain": [
       "     Name     Age       City \n",
       "0    Julia      21  Hyderabad\n",
       "1    Julia      21  Hyderabad\n",
       "2    Grace  twenty    Kolkata\n",
       "3  Charlie      22     Mumbai\n",
       "4    Julia      21    Kolkata"
      ]
     },
     "execution_count": 16,
     "metadata": {},
     "output_type": "execute_result"
    }
   ],
   "source": [
    "df.head() #Top 5 rows of the csv file, to understand the data"
   ]
  },
  {
   "cell_type": "code",
   "execution_count": 37,
   "id": "63fe461e-3a81-400c-967d-32d96b23ba8e",
   "metadata": {},
   "outputs": [
    {
     "name": "stdout",
     "output_type": "stream",
     "text": [
      "Size of data : \n"
     ]
    },
    {
     "data": {
      "text/plain": [
       "(71, 3)"
      ]
     },
     "execution_count": 37,
     "metadata": {},
     "output_type": "execute_result"
    }
   ],
   "source": [
    "print(\"Size of data : \")\n",
    "df.shape"
   ]
  },
  {
   "cell_type": "code",
   "execution_count": 36,
   "id": "5801f0da-db30-4e1d-a264-f0ecdc596c10",
   "metadata": {},
   "outputs": [
    {
     "name": "stdout",
     "output_type": "stream",
     "text": [
      "<class 'pandas.core.frame.DataFrame'>\n",
      "Index: 71 entries, 0 to 97\n",
      "Data columns (total 3 columns):\n",
      " #   Column  Non-Null Count  Dtype \n",
      "---  ------  --------------  ----- \n",
      " 0    Name   71 non-null     object\n",
      " 1    Age    71 non-null     object\n",
      " 2    City   71 non-null     object\n",
      "dtypes: object(3)\n",
      "memory usage: 2.2+ KB\n"
     ]
    }
   ],
   "source": [
    "# To get to know the data types of column\n",
    "df.info()"
   ]
  },
  {
   "cell_type": "code",
   "execution_count": 38,
   "id": "024ec937-1bff-42b5-bb54-6ec9f57a0e6c",
   "metadata": {},
   "outputs": [
    {
     "name": "stdout",
     "output_type": "stream",
     "text": [
      "Summary of the Dataset : \n"
     ]
    },
    {
     "data": {
      "text/html": [
       "<div>\n",
       "<style scoped>\n",
       "    .dataframe tbody tr th:only-of-type {\n",
       "        vertical-align: middle;\n",
       "    }\n",
       "\n",
       "    .dataframe tbody tr th {\n",
       "        vertical-align: top;\n",
       "    }\n",
       "\n",
       "    .dataframe thead th {\n",
       "        text-align: right;\n",
       "    }\n",
       "</style>\n",
       "<table border=\"1\" class=\"dataframe\">\n",
       "  <thead>\n",
       "    <tr style=\"text-align: right;\">\n",
       "      <th></th>\n",
       "      <th>Name</th>\n",
       "      <th>Age</th>\n",
       "      <th>City</th>\n",
       "    </tr>\n",
       "  </thead>\n",
       "  <tbody>\n",
       "    <tr>\n",
       "      <th>count</th>\n",
       "      <td>71</td>\n",
       "      <td>71</td>\n",
       "      <td>71</td>\n",
       "    </tr>\n",
       "    <tr>\n",
       "      <th>unique</th>\n",
       "      <td>10</td>\n",
       "      <td>5</td>\n",
       "      <td>6</td>\n",
       "    </tr>\n",
       "    <tr>\n",
       "      <th>top</th>\n",
       "      <td>Hannah</td>\n",
       "      <td>23</td>\n",
       "      <td>Chennai</td>\n",
       "    </tr>\n",
       "    <tr>\n",
       "      <th>freq</th>\n",
       "      <td>10</td>\n",
       "      <td>17</td>\n",
       "      <td>14</td>\n",
       "    </tr>\n",
       "  </tbody>\n",
       "</table>\n",
       "</div>"
      ],
      "text/plain": [
       "         Name  Age     City \n",
       "count       71   71       71\n",
       "unique      10    5        6\n",
       "top     Hannah   23  Chennai\n",
       "freq        10   17       14"
      ]
     },
     "execution_count": 38,
     "metadata": {},
     "output_type": "execute_result"
    }
   ],
   "source": [
    "print('Summary of the Dataset : ')\n",
    "df.describe()"
   ]
  },
  {
   "cell_type": "code",
   "execution_count": 21,
   "id": "af38bc7b-76b1-4167-b00a-0c3a3699d2b3",
   "metadata": {},
   "outputs": [
    {
     "data": {
      "text/plain": [
       "np.int64(14)"
      ]
     },
     "execution_count": 21,
     "metadata": {},
     "output_type": "execute_result"
    }
   ],
   "source": [
    "df.duplicated().sum()   #to find the duplicates"
   ]
  },
  {
   "cell_type": "code",
   "execution_count": 22,
   "id": "93f2878e-8fbb-4d06-a2c8-b8afab3fce2e",
   "metadata": {},
   "outputs": [],
   "source": [
    "df.drop_duplicates(inplace = True)   #removing all the duplicates using dropna"
   ]
  },
  {
   "cell_type": "code",
   "execution_count": 23,
   "id": "952bc6cb-7750-41a9-bf45-5efd03eee241",
   "metadata": {},
   "outputs": [
    {
     "data": {
      "text/plain": [
       "np.int64(0)"
      ]
     },
     "execution_count": 23,
     "metadata": {},
     "output_type": "execute_result"
    }
   ],
   "source": [
    "df.duplicated().sum()"
   ]
  },
  {
   "cell_type": "code",
   "execution_count": 24,
   "id": "a5d07289-8244-464a-bc0a-49a46cef619d",
   "metadata": {},
   "outputs": [
    {
     "data": {
      "text/plain": [
       "Name      0\n",
       "Age      15\n",
       "City      0\n",
       "dtype: int64"
      ]
     },
     "execution_count": 24,
     "metadata": {},
     "output_type": "execute_result"
    }
   ],
   "source": [
    "df.isnull().sum()   # to find the missing values"
   ]
  },
  {
   "cell_type": "code",
   "execution_count": 25,
   "id": "e0082ffb-721d-4133-9ce9-4626bde940bc",
   "metadata": {},
   "outputs": [],
   "source": [
    "df = df.dropna()   #doing the same, as in duplicated to remove the missing values"
   ]
  },
  {
   "cell_type": "code",
   "execution_count": 26,
   "id": "9733996c-213e-45db-bda9-f8ab0c5207a5",
   "metadata": {},
   "outputs": [
    {
     "data": {
      "text/plain": [
       "Name     0\n",
       "Age      0\n",
       "City     0\n",
       "dtype: int64"
      ]
     },
     "execution_count": 26,
     "metadata": {},
     "output_type": "execute_result"
    }
   ],
   "source": [
    "df.isnull().sum()   #to check there are still missing values are not"
   ]
  },
  {
   "cell_type": "code",
   "execution_count": 39,
   "id": "857384b1-c52e-48a0-a0ec-23d8b8d23b98",
   "metadata": {},
   "outputs": [
    {
     "data": {
      "text/plain": [
       "(71, 3)"
      ]
     },
     "execution_count": 39,
     "metadata": {},
     "output_type": "execute_result"
    }
   ],
   "source": [
    "df.shape   #shape of the dataset after deleting rows and columns"
   ]
  },
  {
   "cell_type": "code",
   "execution_count": 40,
   "id": "742054cb-158a-416c-b443-35bfceb503e6",
   "metadata": {},
   "outputs": [
    {
     "data": {
      "text/html": [
       "<div>\n",
       "<style scoped>\n",
       "    .dataframe tbody tr th:only-of-type {\n",
       "        vertical-align: middle;\n",
       "    }\n",
       "\n",
       "    .dataframe tbody tr th {\n",
       "        vertical-align: top;\n",
       "    }\n",
       "\n",
       "    .dataframe thead th {\n",
       "        text-align: right;\n",
       "    }\n",
       "</style>\n",
       "<table border=\"1\" class=\"dataframe\">\n",
       "  <thead>\n",
       "    <tr style=\"text-align: right;\">\n",
       "      <th></th>\n",
       "      <th>Name</th>\n",
       "      <th>Age</th>\n",
       "      <th>City</th>\n",
       "    </tr>\n",
       "  </thead>\n",
       "  <tbody>\n",
       "    <tr>\n",
       "      <th>90</th>\n",
       "      <td>Bob</td>\n",
       "      <td>21</td>\n",
       "      <td>Bangalore</td>\n",
       "    </tr>\n",
       "    <tr>\n",
       "      <th>91</th>\n",
       "      <td>Frank</td>\n",
       "      <td>22</td>\n",
       "      <td>Bangalore</td>\n",
       "    </tr>\n",
       "    <tr>\n",
       "      <th>92</th>\n",
       "      <td>Grace</td>\n",
       "      <td>22</td>\n",
       "      <td>Chennai</td>\n",
       "    </tr>\n",
       "    <tr>\n",
       "      <th>95</th>\n",
       "      <td>Charlie</td>\n",
       "      <td>20</td>\n",
       "      <td>Chennai</td>\n",
       "    </tr>\n",
       "    <tr>\n",
       "      <th>97</th>\n",
       "      <td>David</td>\n",
       "      <td>21</td>\n",
       "      <td>Delhi</td>\n",
       "    </tr>\n",
       "  </tbody>\n",
       "</table>\n",
       "</div>"
      ],
      "text/plain": [
       "      Name  Age       City \n",
       "90      Bob   21  Bangalore\n",
       "91    Frank   22  Bangalore\n",
       "92    Grace   22    Chennai\n",
       "95  Charlie   20    Chennai\n",
       "97    David   21      Delhi"
      ]
     },
     "execution_count": 40,
     "metadata": {},
     "output_type": "execute_result"
    }
   ],
   "source": [
    "df.tail()"
   ]
  },
  {
   "cell_type": "code",
   "execution_count": 41,
   "id": "58c964db-bf67-4101-8861-754d292b5aa1",
   "metadata": {},
   "outputs": [
    {
     "data": {
      "text/html": [
       "<div>\n",
       "<style scoped>\n",
       "    .dataframe tbody tr th:only-of-type {\n",
       "        vertical-align: middle;\n",
       "    }\n",
       "\n",
       "    .dataframe tbody tr th {\n",
       "        vertical-align: top;\n",
       "    }\n",
       "\n",
       "    .dataframe thead th {\n",
       "        text-align: right;\n",
       "    }\n",
       "</style>\n",
       "<table border=\"1\" class=\"dataframe\">\n",
       "  <thead>\n",
       "    <tr style=\"text-align: right;\">\n",
       "      <th></th>\n",
       "      <th>Name</th>\n",
       "      <th>Age</th>\n",
       "      <th>City</th>\n",
       "    </tr>\n",
       "  </thead>\n",
       "  <tbody>\n",
       "    <tr>\n",
       "      <th>0</th>\n",
       "      <td>Julia</td>\n",
       "      <td>21</td>\n",
       "      <td>Hyderabad</td>\n",
       "    </tr>\n",
       "    <tr>\n",
       "      <th>2</th>\n",
       "      <td>Grace</td>\n",
       "      <td>twenty</td>\n",
       "      <td>Kolkata</td>\n",
       "    </tr>\n",
       "    <tr>\n",
       "      <th>3</th>\n",
       "      <td>Charlie</td>\n",
       "      <td>22</td>\n",
       "      <td>Mumbai</td>\n",
       "    </tr>\n",
       "    <tr>\n",
       "      <th>4</th>\n",
       "      <td>Julia</td>\n",
       "      <td>21</td>\n",
       "      <td>Kolkata</td>\n",
       "    </tr>\n",
       "    <tr>\n",
       "      <th>5</th>\n",
       "      <td>Grace</td>\n",
       "      <td>23</td>\n",
       "      <td>Delhi</td>\n",
       "    </tr>\n",
       "    <tr>\n",
       "      <th>...</th>\n",
       "      <td>...</td>\n",
       "      <td>...</td>\n",
       "      <td>...</td>\n",
       "    </tr>\n",
       "    <tr>\n",
       "      <th>90</th>\n",
       "      <td>Bob</td>\n",
       "      <td>21</td>\n",
       "      <td>Bangalore</td>\n",
       "    </tr>\n",
       "    <tr>\n",
       "      <th>91</th>\n",
       "      <td>Frank</td>\n",
       "      <td>22</td>\n",
       "      <td>Bangalore</td>\n",
       "    </tr>\n",
       "    <tr>\n",
       "      <th>92</th>\n",
       "      <td>Grace</td>\n",
       "      <td>22</td>\n",
       "      <td>Chennai</td>\n",
       "    </tr>\n",
       "    <tr>\n",
       "      <th>95</th>\n",
       "      <td>Charlie</td>\n",
       "      <td>20</td>\n",
       "      <td>Chennai</td>\n",
       "    </tr>\n",
       "    <tr>\n",
       "      <th>97</th>\n",
       "      <td>David</td>\n",
       "      <td>21</td>\n",
       "      <td>Delhi</td>\n",
       "    </tr>\n",
       "  </tbody>\n",
       "</table>\n",
       "<p>71 rows × 3 columns</p>\n",
       "</div>"
      ],
      "text/plain": [
       "      Name     Age       City \n",
       "0     Julia      21  Hyderabad\n",
       "2     Grace  twenty    Kolkata\n",
       "3   Charlie      22     Mumbai\n",
       "4     Julia      21    Kolkata\n",
       "5     Grace      23      Delhi\n",
       "..      ...     ...        ...\n",
       "90      Bob      21  Bangalore\n",
       "91    Frank      22  Bangalore\n",
       "92    Grace      22    Chennai\n",
       "95  Charlie      20    Chennai\n",
       "97    David      21      Delhi\n",
       "\n",
       "[71 rows x 3 columns]"
      ]
     },
     "execution_count": 41,
     "metadata": {},
     "output_type": "execute_result"
    }
   ],
   "source": [
    "df"
   ]
  },
  {
   "cell_type": "code",
   "execution_count": 42,
   "id": "05b62a97-d1d7-4311-990f-f7fc65f80f97",
   "metadata": {},
   "outputs": [],
   "source": [
    "df.to_csv(\"clean_students.csv\", index=False)"
   ]
  },
  {
   "cell_type": "markdown",
   "id": "94d924b8",
   "metadata": {},
   "source": [
    "### 📩 Submission\n",
    "Please **rename this notebook to your full name**, e.g., `YourName_LiveCoding.ipynb`, and submit it **along with** the generated `clean_students.csv` file."
   ]
  }
 ],
 "metadata": {
  "kernelspec": {
   "display_name": "Python 3 (ipykernel)",
   "language": "python",
   "name": "python3"
  },
  "language_info": {
   "codemirror_mode": {
    "name": "ipython",
    "version": 3
   },
   "file_extension": ".py",
   "mimetype": "text/x-python",
   "name": "python",
   "nbconvert_exporter": "python",
   "pygments_lexer": "ipython3",
   "version": "3.13.5"
  }
 },
 "nbformat": 4,
 "nbformat_minor": 5
}
